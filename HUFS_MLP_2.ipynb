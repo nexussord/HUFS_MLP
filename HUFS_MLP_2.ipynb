{
 "cells": [
  {
   "cell_type": "markdown",
   "id": "185e1408",
   "metadata": {},
   "source": [
    "# 텍스트 마이닝을 활용한 영화 평점 감성 분석"
   ]
  },
  {
   "cell_type": "markdown",
   "id": "e46be078",
   "metadata": {},
   "source": [
    "## 1) 영화 평점 데이터 크롤링"
   ]
  },
  {
   "cell_type": "code",
   "execution_count": 1,
   "id": "8b4df042",
   "metadata": {
    "scrolled": true
   },
   "outputs": [
    {
     "name": "stdout",
     "output_type": "stream",
     "text": [
      "버닝 :: 7 :: 생각보다 잼잇는데, 사람을 너무 잘죽인다. 영화처럼 사람죽이면 남아나는 사람이 없겟네. 벤이 해미를 죽엿다생각하여 죽인건가\n",
      "-------------------------------------------\n",
      "버닝 :: 10 :: 셈 페킨파 영화입니까...? 완벽합니다, 저에겐.\n",
      "-------------------------------------------\n",
      "버닝 :: 1 :: 너무 지루함.  이창동영화 다시는 안볼거임\n",
      "-------------------------------------------\n",
      "버닝 :: 4 :: 아니 그래서 여주가 어떻게 됫다는거니?  끝까지 봣더만 의문과 답답함만 남겨준 영화\n",
      "-------------------------------------------\n",
      "버닝 :: 8 :: 이창동 감독의 품격에 놀란다\n",
      "-------------------------------------------\n",
      "버닝 :: 10 :: 해미는 어디로 간건여 죽은건가   해미복수 해준건 다행이다   썩을놈\n",
      "-------------------------------------------\n",
      "버닝 :: 10 :: 결말을 찾아보게 되는 영화 오랜만입니다.. 왜그랬을까 왜그런걸까 끊임없이 추론해가며 스릴도 어마어마했습니다.\n",
      "-------------------------------------------\n",
      "버닝 :: 8 :: 극렬하게 타오른 분노의 자리에 남은 건 사라지는 연기뿐\n",
      "-------------------------------------------\n",
      "버닝 :: 2 :: 와 진짜 본거중에최악이다 늦은전개 오바야 ㄹㅇ\n",
      "-------------------------------------------\n",
      "버닝 :: 2 :: 유아인이 좋아 보긴했지만,구질구질한 독립영화 분위기...\n",
      "-------------------------------------------\n"
     ]
    }
   ],
   "source": [
    "import requests\n",
    "from bs4 import BeautifulSoup\n",
    "from urllib import parse\n",
    "\n",
    "base_url = \"https://movie.naver.com/movie/point/af/list.naver?st=mcode&sword=155263&target=after&page={}\"\n",
    "url = base_url.format(1)\n",
    "res = requests.get(url)\n",
    "\n",
    "soup = BeautifulSoup(res.text)\n",
    "tds = soup.select('table.list_netizen > tbody > tr > td.title')\n",
    "\n",
    "for td in tds:\n",
    "    movie_title = td.select_one('a.movie').text.strip()\n",
    "    score = td.select_one('div.list_netizen_score > em').text.strip()\n",
    "    comment = td.select_one('br').next_sibling.strip()\n",
    "    print(movie_title, score, comment, sep=' :: ')\n",
    "    print('-------------------------------------------')"
   ]
  },
  {
   "cell_type": "code",
   "execution_count": null,
   "id": "e58e70b3",
   "metadata": {},
   "outputs": [],
   "source": [
    "import time\n",
    "import random\n",
    "\n",
    "comment_list=[] # 저장 할 리스트\n",
    "for page in range(1, 10001):\n",
    "    url = base_url.format(page)\n",
    "    res = requests.get(url)\n",
    "    \n",
    "    soup = BeautifulSoup(res.text, 'lxml')\n",
    "    tds = soup.select('table.list_netizen > tbody > tr > td.title')\n",
    "    \n",
    "    for td in tds:\n",
    "        score = td.select_one('div.list_netizen_score > em').text.strip()\n",
    "        comment = td.select_one('br').next_sibling.strip()\n",
    "        if comment != '' : # comment가 빈값이 아니라면 리스트에 추가\n",
    "            comment_list.append((score, comment)) \n",
    "    delay = round(random.uniform(0.2, 1.2), 2) # 크롤링을 위해 페이지 전환을 빠르게 하게되면 네이버에서 막을 수 있기에 delay를 걸어준다.\n",
    "    time.sleep(delay)\n",
    "    "
   ]
  },
  {
   "cell_type": "code",
   "execution_count": 3,
   "id": "a1f3eab2",
   "metadata": {},
   "outputs": [
    {
     "name": "stdout",
     "output_type": "stream",
     "text": [
      "[('7', '생각보다 잼잇는데, 사람을 너무 잘죽인다. 영화처럼 사람죽이면 남아나는 사람이 없겟네. 벤이 해미를 죽엿다생각하여 죽인건가'), ('10', '셈 페킨파 영화입니까...? 완벽합니다, 저에겐.'), ('1', '너무 지루함.  이창동영화 다시는 안볼거임'), ('4', '아니 그래서 여주가 어떻게 됫다는거니?  끝까지 봣더만 의문과 답답함만 남겨준 영화'), ('8', '이창동 감독의 품격에 놀란다'), ('10', '해미는 어디로 간건여 죽은건가   해미복수 해준건 다행이다   썩을놈'), ('10', '결말을 찾아보게 되는 영화 오랜만입니다.. 왜그랬을까 왜그런걸까 끊임없이 추론해가며 스릴도 어마어마했습니다.'), ('8', '극렬하게 타오른 분노의 자리에 남은 건 사라지는 연기뿐'), ('2', '와 진짜 본거중에최악이다 늦은전개 오바야 ㄹㅇ'), ('2', '유아인이 좋아 보긴했지만,구질구질한 독립영화 분위기...'), ('10', '페미가 삻어하는영호ㅓ'), ('10', '미치도록 아름다운 내 삶의 최고의 영화'), ('10', '유아인 스티븐연 전종서'), ('10', '방송에 나올때 딴일하며 봐서 재미없었는데 넷플에서 보니 스토리 연기 주제 다 좋고 흥미진진'), ('8', '하루키 원작답게 성관계와 마약 살인이 나온다. 여배우의 관능미가 대단하고 흐느적 거리는 분위기 표현이 좋다. 이창동 답게 분노를 직설적으로 토해낸다.'), ('10', '좋았음 전개 방식이 맘에듬 유아인씨는 진짜 연기 잘하는 배우라는거 다시 한 번 느꼈고 스티븐 연님 한국어 연기도 인상적이었음'), ('10', '유아인  연기정말잘하는거같아요  전반부에  전종서랑 담배피우면서 침뱉는데 정말 찌질한연기를잘한다고 생각이들었습니다 후에  미행하면서 포터에서  빵이랑우유먹는씬도 너무좋았구요  젊은친구지만 최민식  다음으로 좋아하는 배우가 되었습니다'), ('1', '꼭 ㄸ쳐야했나요????'), ('1', '고급재료로 만든 요리 결국 똥촬영에 많은 공의 흔적이 보이는데 참 이렇게 못만들수있군 유아인은 다 좋은데 대사 전달력이 가끔 아쉬움'), ('10', '버닝이 던지는 질문이 좋았다. 나는 무엇을 태울 것인가?'), ('1', '심각하다 이렇게 진부하고 심오한 영화가 있다니 배우들 대사들도 전부 느려서 지루함이 한층 더해졌고 내용 자체가 너무 심오해서 제대로 이해하기도 어려움 별점 1점도 아까워서 평가남김'), ('10', '욕망과 이상을 향해 앞만보고 달리는 현대 남성과 그 그늘 아래 자유를 갈구하며 광대처럼 살아가는 현대 여성의 보편적인 삶. 그런 그들의 삶을 냉소적이고 냉철하게 지켜보는 현대 사회. 그런 현실을 방황하던 한 남자의 선택'), ('10', '오랫만에 이창동 감독님 영화역시두번보니 한발짝 더  깊어진 여운 전종서 라는 배우 발견 처음부터 없었던것처럼 사라지고 싶다하늘에서 비가내리듯 ... 바탕에 깔린 배경음악이 머길래..  매우 단순하면서도 극의 몰입에  크게 기여..   그 현악 줄을 손가락으로  튕기는 듯 한  ..긴  떨림  잛은 떨림   여운..  정말 매력적인  음악이었다..   연기  각본  연출  어느것  하나 부족함이 없었던..  역시  이창동님 영화임'), ('10', '유아인의 연기력. 다시 봤어요. 원작 소설을 읽고 봐도 시간 가는줄 모르고 봤습니다.'), ('10', '내용만 보면 지루함을 느껴야하는데 느낄 수 없을 정도로 몰입도가 좋다'), ('8', '특유의 분위기가 재밌다 가볍게 즐기고 결론내도 나쁘진 않다'), ('10', '와우감독님유배우님부자집오빠(포르쉐주인)옷벗는 언니(보일집사)연기 짱^^'), ('9', '좋은 영화는 답을 제시하는 영화가 아니라는 이동진 평론가의 말이 떠오르는 영화. 적당히 질문을 던지고 감독은 쑥 빠져버린다. 덕분에 영화의 잔향이 짙다.'), ('10', '가을이 깊어갈 무렵이면 종수네 마당이 그리워 한번씩 찾아간다. 오렌지빛 어둠이 깊어가고 전율인지 절망인지 모를 해미의 돌멩이처럼, 우물에 빠진 나도 동그란 하늘만 바라보며 그 곳에 앉는다. 언젠가 나도 그저 연기처럼 사라지고 말았으면..'), ('10', '아무생각없이 본 영화가 인생영화가 되었네요.여러번 더 볼 생각입니다.'), ('6', '나만 당할수 없다....'), ('6', '노출 없었으면 안봤을 것들이 평이 죄다 현학적으로 포장하고 있네'), ('10', '나한텐 최고의 영화 중 하나'), ('8', '느낌은 좋은데 무엇을 표현하려는건지...ㅎ'), ('2', '자! 내가 작품성이 있다고 여겨질만한 작품을 하나 만들어봤어!이런 느낌....어떠한 몰입감과 감정동요도 없는...주객이 전도되버린....감독의 도구로써 영화가 만들어진 느낌....한마디로 그냥....졸! 작!....창동이형 아쉽다'), ('6', '사실 이창동감독님한테 실망많이 함 졸면서 봄 따븐함..느릿느릿 답답함'), ('10', '영화 자체는 기생충 만큼이나 잘 만든 영화 이지만 대중적인 사랑은 10분의1도 받지 못해서 아쉽다고 생각합니다.  앞으로 이런 영화도 많은 사랑을 받았으면 좋겠습니다.'), ('10', '거울, 여백이 많아 관객이 각자 가치관에 따라 해석을 달리할 작품'), ('10', '자주 생각나서 또 찾게 만드는 영화. 굿...'), ('10', '평점이 너무 낮네요...'), ('1', '원작을 모르고 보면 재밌게 봤을수도.. 원작을 개 망쳐놔서 뭐지? 하고 봤네 특히 비닐하우스  오글거리던데'), ('1', '욕하고싶다.시간낭비. 보일이  연기 잘하네'), ('4', '생각하기 싫다 요즘은...'), ('10', '5번을 보았지만 앞으로 또 보게 될 영화'), ('10', '5번을 보았지만 앞으로 또 보게 될 영화'), ('9', \"디테일과 (그 죽일 놈의) 메타포로 가득한 이 문제작은, 황희 정승의 마음을 가지고 각자가 느끼고 생각한 대로 보면 될 것 같습니다. 저는 '주어진 (거지같은) 환경 속에서 끝없이 발버둥 치고 판단-선택해야 하는 우리네 삶을, 영화만이 구사할 수 있는 방법으로 찝찝하고 신비롭게 그려냈다'고 스스로를 억지로 납득시키고 있습니다. 모호함이 불러오는 파멸, 그리고 재생의 메시지도 보입니다. 여러모로 사람을 아주 괴롭게 하는 영화네요\"), ('10', '이 영화의 평점이 이리 낮은 것이 이해 되지 않는다. 미장센이나 메타포적으로 담긴 의미들을 다 찾을 수 없을 만큼 깊이가 깊은 영화. 이창동은 영화의 오프닝 시퀀스 속 거리의 사운드 마저 의미를 주는 영화에 진심인 감독. 나도 진심을 다해서 볼 수밖에 없었다'), ('9', '왜 눈물이 나지…. 재미있다 내 기준 거의 완벽한 영화'), ('1', '개노답 러닝타임은 엄청 기네'), ('10', '영화가 끝났을때 기립박수가 터져나옴'), ('10', '혜미는 그저 우물에서 자신을 구해줬다고 종수에게 진심을 전했지만 종수는 진심을 보지 못했다. 그저 그 이야기가 사실인지 아닌지, 혜미의 말이 거짓말인지 진심인지를 가리기에 급급했다. 평범한 남녀 청춘의 사랑 이야기일수도, 흑수저와 금수저의 계급 이야기일수도.'), ('4', '왜 상상력이 관객의 몫이 되어야 하는가?? 빈약한 스토리라인을 관객의 상상력으로 넘겨버리면서, 예술영화로 치장하는 불쾌한 영화~!! 감독의 커리어라면 좀 더 기본에 충실하고 뚜렷한 색깔을 지닌 영화로 만들었어야 함, 젊은 감독이 단편 영화에나 쓸 법한 이런 실험 정신은 커리어 있는 감독에겐 사치이고 돈 낭비라 생각됨~!!'), ('8', '개취로 우리나라 거장 감독 둘을 뽑으라면 이창동과 봉준호.근데 와...이창동 감독이 예술 영화적으로는 한 수위라는게 이 영화에서 정리 됨...기생충은 약간은 비현실적이고 극적인 구성으로 자본주의의 민낯을 드러냈다면 버닝은 그냥 주변에 널려있는 사람들과 공간을 영화화하며 드러냄...심지어 우리나라에는 \"위대한 개츠비가 참 많아\"에서 이  한 대사만으로도 모든게 설명됨...'), ('10', '뭔가 자꾸 궁금하게 만드네'), ('8', '그레이트 헝거가 되고 싶다.'), ('7', '방황과 혼란 속, 그 사이에 서 있는 종수'), ('10', '좋음'), ('7', '초입부분이 너무 눈살 찌푸려질 정도로 지저분한 느낌이라 보다가 그만두고 며칠후에 다시봤는데, 뒤의 내용이 심오했다. 벤은 살인마가 확실할까?'), ('3', '이런 우울한 영화는 도데체 왜 만드는 걸까? 메세지를 던져주고 싶은 감독의 생각이 영화에 잘 스며들었다고 생각되지는 않는다....'), ('9', '감독 연출 연기 다 최고의 작품임정말 가득 담아서 보여줬으나 선택해서 받아들이면 되는 영화'), ('6', '그냥 노잼.. ㄱㅅ말곤 볼게없음'), ('4', '반 정도 보고 난 후, 더 이상은 아닌 것 같아 그만두었다. 여태껏 영화들을 봐 오면서 재미가 없는 것들도 이를 만든 사람들의 정성과 노고를 생각하여 내용의 지루함이 이어짐을 참아내고 끝까지 시청하는 것을 줄곧 고수해 왔으나 이제부터는 더 이상 그러질 않기로 했다. 경험상 그러한 부류의 영화들은 어차피 조금의 시간이 흐르면 기억에 남지 않을뿐더러 정서적으로 어떠한 긍정적 영향을 미치는 것도 아니라는 판단이 들어섰기 때문이다. 이 영화를 계기로 삼은 것은 단지 우연이다. 후한 평점을 준 분들이 부러울 뿐이다.'), ('10', '시대의 현실을 투영한 부조리의 전소하는 광경을 냉소적으로 멍 때리는 영화'), ('8', '분노의 주체는 형체가 있을까 아니면 나의 열등감에서 비롯된것 일까 ?  애초에 “ 판토마임 “ 처럼 없는것을 있다고 생각하는것일까 .. 우리는 모두 판토마임을 하는것일지도 ..'), ('7', '진짜 미스터리 영화란, 미스터리한 일들이 일어나는 것을 소재로 한 영화가 아니라, 스토리 자체가 미스터리한 영화를 의미한다.'), ('2', '유아인은 왜 이영화를 찍었을까 ..??')]\n"
     ]
    }
   ],
   "source": [
    "print(comment_list)"
   ]
  },
  {
   "cell_type": "code",
   "execution_count": 128,
   "id": "fd184ce0",
   "metadata": {},
   "outputs": [
    {
     "data": {
      "text/plain": [
       "(9354, 2)"
      ]
     },
     "execution_count": 128,
     "metadata": {},
     "output_type": "execute_result"
    }
   ],
   "source": [
    "import pandas as pd\n",
    "df = pd.DataFrame(comment_list,columns=['rate','comment'])\n",
    "df.to_csv('burning_naver_comment_blank_removed.csv', encoding='utf-8', index = False)"
   ]
  },
  {
   "cell_type": "markdown",
   "id": "16ef4333",
   "metadata": {},
   "source": [
    "## 2) 텍스트 전처리를 위한 데이터 셋 살펴보기"
   ]
  },
  {
   "cell_type": "code",
   "execution_count": 117,
   "id": "20d2b00b",
   "metadata": {},
   "outputs": [],
   "source": [
    "%matplotlib inline\n",
    "\n",
    "import pandas as pd\n",
    "import numpy as np\n",
    "import matplotlib.pyplot as plt\n",
    "import seaborn as sns\n",
    "\n",
    "import warnings\n",
    "warnings.filterwarnings(\"ignore\")\n",
    "\n",
    "df = pd.read_csv(\"https://raw.githubusercontent.com/nexussord/HUFS_MLP/main/spider_naver_comment_blank_removed.csv\")"
   ]
  },
  {
   "cell_type": "code",
   "execution_count": 118,
   "id": "753c2615",
   "metadata": {},
   "outputs": [
    {
     "data": {
      "text/html": [
       "<div>\n",
       "<style scoped>\n",
       "    .dataframe tbody tr th:only-of-type {\n",
       "        vertical-align: middle;\n",
       "    }\n",
       "\n",
       "    .dataframe tbody tr th {\n",
       "        vertical-align: top;\n",
       "    }\n",
       "\n",
       "    .dataframe thead th {\n",
       "        text-align: right;\n",
       "    }\n",
       "</style>\n",
       "<table border=\"1\" class=\"dataframe\">\n",
       "  <thead>\n",
       "    <tr style=\"text-align: right;\">\n",
       "      <th></th>\n",
       "      <th>rate</th>\n",
       "      <th>comment</th>\n",
       "    </tr>\n",
       "  </thead>\n",
       "  <tbody>\n",
       "    <tr>\n",
       "      <th>0</th>\n",
       "      <td>10</td>\n",
       "      <td>스파이더맨 팬이라면 꼭 봐야 될 영화</td>\n",
       "    </tr>\n",
       "    <tr>\n",
       "      <th>1</th>\n",
       "      <td>10</td>\n",
       "      <td>진짜 1회차 2회차 둘다 어우 한편만에 이렇게알찬 스토리를 볼 수 있어 좋았어요.....</td>\n",
       "    </tr>\n",
       "    <tr>\n",
       "      <th>2</th>\n",
       "      <td>6</td>\n",
       "      <td>이전 시리즈에 나왔던 캐릭터들이 다시 등장한다는 것 빼곤 딱히 감상 포인트가 없고 ...</td>\n",
       "    </tr>\n",
       "    <tr>\n",
       "      <th>3</th>\n",
       "      <td>10</td>\n",
       "      <td>스파이더맨 총집합  최고였음</td>\n",
       "    </tr>\n",
       "    <tr>\n",
       "      <th>4</th>\n",
       "      <td>10</td>\n",
       "      <td>거미극혐하는사람이 거미인간 좋아하게 만드는 영화임 마블영화본거중에 난 이게 1위타노...</td>\n",
       "    </tr>\n",
       "  </tbody>\n",
       "</table>\n",
       "</div>"
      ],
      "text/plain": [
       "   rate                                            comment\n",
       "0    10                               스파이더맨 팬이라면 꼭 봐야 될 영화\n",
       "1    10  진짜 1회차 2회차 둘다 어우 한편만에 이렇게알찬 스토리를 볼 수 있어 좋았어요.....\n",
       "2     6  이전 시리즈에 나왔던 캐릭터들이 다시 등장한다는 것 빼곤 딱히 감상 포인트가 없고 ...\n",
       "3    10                                    스파이더맨 총집합  최고였음\n",
       "4    10  거미극혐하는사람이 거미인간 좋아하게 만드는 영화임 마블영화본거중에 난 이게 1위타노..."
      ]
     },
     "execution_count": 118,
     "metadata": {},
     "output_type": "execute_result"
    }
   ],
   "source": [
    "df.head()"
   ]
  },
  {
   "cell_type": "code",
   "execution_count": 119,
   "id": "dc69cdd0",
   "metadata": {},
   "outputs": [
    {
     "data": {
      "text/plain": [
       "(10000, 2)"
      ]
     },
     "execution_count": 119,
     "metadata": {},
     "output_type": "execute_result"
    }
   ],
   "source": [
    "df.shape"
   ]
  },
  {
   "cell_type": "code",
   "execution_count": 120,
   "id": "4dd5e0e5",
   "metadata": {},
   "outputs": [
    {
     "data": {
      "text/plain": [
       "rate         0\n",
       "comment    644\n",
       "dtype: int64"
      ]
     },
     "execution_count": 120,
     "metadata": {},
     "output_type": "execute_result"
    }
   ],
   "source": [
    "df.isnull().sum() # 데이터 무결성 확인"
   ]
  },
  {
   "cell_type": "code",
   "execution_count": 98,
   "id": "955a6bd7",
   "metadata": {},
   "outputs": [
    {
     "name": "stdout",
     "output_type": "stream",
     "text": [
      "<class 'pandas.core.frame.DataFrame'>\n",
      "Int64Index: 9361 entries, 0 to 9999\n",
      "Data columns (total 2 columns):\n",
      " #   Column   Non-Null Count  Dtype \n",
      "---  ------   --------------  ----- \n",
      " 0   rate     9361 non-null   int64 \n",
      " 1   comment  9361 non-null   object\n",
      "dtypes: int64(1), object(1)\n",
      "memory usage: 219.4+ KB\n"
     ]
    }
   ],
   "source": [
    "df.info()"
   ]
  },
  {
   "cell_type": "code",
   "execution_count": 102,
   "id": "778aef2e",
   "metadata": {},
   "outputs": [
    {
     "data": {
      "text/plain": [
       "'처음 본 전율을 잊고싶지 않다.'"
      ]
     },
     "execution_count": 102,
     "metadata": {},
     "output_type": "execute_result"
    }
   ],
   "source": [
    "df['comment'][20]"
   ]
  },
  {
   "cell_type": "code",
   "execution_count": 52,
   "id": "e94013b0",
   "metadata": {},
   "outputs": [
    {
     "data": {
      "text/plain": [
       "370020"
      ]
     },
     "execution_count": 52,
     "metadata": {},
     "output_type": "execute_result"
    }
   ],
   "source": [
    "len(df['comment'].values.sum())"
   ]
  },
  {
   "cell_type": "markdown",
   "id": "83203359",
   "metadata": {},
   "source": [
    "## 3) 한국어 텍스트 전처리"
   ]
  },
  {
   "cell_type": "markdown",
   "id": "f61314ca",
   "metadata": {},
   "source": [
    "### Konlpy 설치"
   ]
  },
  {
   "cell_type": "code",
   "execution_count": 53,
   "id": "4a89c12a",
   "metadata": {},
   "outputs": [
    {
     "name": "stdout",
     "output_type": "stream",
     "text": [
      "Requirement already satisfied: konlpy==0.5.1 in /Users/tonykim/opt/anaconda3/lib/python3.8/site-packages (0.5.1)\r\n",
      "Requirement already satisfied: jpype1 in /Users/tonykim/opt/anaconda3/lib/python3.8/site-packages (0.6.3)\r\n"
     ]
    }
   ],
   "source": [
    "!pip install konlpy==0.5.1 jpype1 "
   ]
  },
  {
   "cell_type": "markdown",
   "id": "766df807",
   "metadata": {},
   "source": [
    "### 정규표현식 적용"
   ]
  },
  {
   "cell_type": "code",
   "execution_count": 54,
   "id": "d9f20908",
   "metadata": {},
   "outputs": [],
   "source": [
    "import re\n",
    "\n",
    "def filter(text):\n",
    "    korean = re.compile('[^ ㄱ-ㅣ가-힣]') # 한글만 추출할 수 있게끔\n",
    "    result = korean.sub('', text)\n",
    "    return result"
   ]
  },
  {
   "cell_type": "code",
   "execution_count": 90,
   "id": "f9067665",
   "metadata": {},
   "outputs": [
    {
     "ename": "TypeError",
     "evalue": "expected string or bytes-like object",
     "output_type": "error",
     "traceback": [
      "\u001b[0;31m---------------------------------------------------------------------------\u001b[0m",
      "\u001b[0;31mTypeError\u001b[0m                                 Traceback (most recent call last)",
      "\u001b[0;32m<ipython-input-90-196f84f0e58b>\u001b[0m in \u001b[0;36m<module>\u001b[0;34m\u001b[0m\n\u001b[0;32m----> 1\u001b[0;31m \u001b[0mfilter\u001b[0m\u001b[0;34m(\u001b[0m\u001b[0mdf\u001b[0m\u001b[0;34m[\u001b[0m\u001b[0;34m'comment'\u001b[0m\u001b[0;34m]\u001b[0m\u001b[0;34m[\u001b[0m\u001b[0;36m19\u001b[0m\u001b[0;34m]\u001b[0m\u001b[0;34m)\u001b[0m\u001b[0;34m\u001b[0m\u001b[0;34m\u001b[0m\u001b[0m\n\u001b[0m",
      "\u001b[0;32m<ipython-input-54-04ad4b3c8d47>\u001b[0m in \u001b[0;36mfilter\u001b[0;34m(text)\u001b[0m\n\u001b[1;32m      3\u001b[0m \u001b[0;32mdef\u001b[0m \u001b[0mfilter\u001b[0m\u001b[0;34m(\u001b[0m\u001b[0mtext\u001b[0m\u001b[0;34m)\u001b[0m\u001b[0;34m:\u001b[0m\u001b[0;34m\u001b[0m\u001b[0;34m\u001b[0m\u001b[0m\n\u001b[1;32m      4\u001b[0m     \u001b[0mkorean\u001b[0m \u001b[0;34m=\u001b[0m \u001b[0mre\u001b[0m\u001b[0;34m.\u001b[0m\u001b[0mcompile\u001b[0m\u001b[0;34m(\u001b[0m\u001b[0;34m'[^ ㄱ-ㅣ가-힣]'\u001b[0m\u001b[0;34m)\u001b[0m \u001b[0;31m# 한글만 추출할 수 있게끔\u001b[0m\u001b[0;34m\u001b[0m\u001b[0;34m\u001b[0m\u001b[0m\n\u001b[0;32m----> 5\u001b[0;31m     \u001b[0mresult\u001b[0m \u001b[0;34m=\u001b[0m \u001b[0mkorean\u001b[0m\u001b[0;34m.\u001b[0m\u001b[0msub\u001b[0m\u001b[0;34m(\u001b[0m\u001b[0;34m''\u001b[0m\u001b[0;34m,\u001b[0m \u001b[0mtext\u001b[0m\u001b[0;34m)\u001b[0m\u001b[0;34m\u001b[0m\u001b[0;34m\u001b[0m\u001b[0m\n\u001b[0m\u001b[1;32m      6\u001b[0m     \u001b[0;32mreturn\u001b[0m \u001b[0mresult\u001b[0m\u001b[0;34m\u001b[0m\u001b[0;34m\u001b[0m\u001b[0m\n",
      "\u001b[0;31mTypeError\u001b[0m: expected string or bytes-like object"
     ]
    }
   ],
   "source": [
    "filter(df['comment'][19])"
   ]
  },
  {
   "cell_type": "markdown",
   "id": "0b56a207",
   "metadata": {},
   "source": [
    "### 명사 형태소 추출"
   ]
  },
  {
   "cell_type": "code",
   "execution_count": 88,
   "id": "9dc3336e",
   "metadata": {},
   "outputs": [
    {
     "data": {
      "text/plain": [
       "['인피니티', '워', '이후', '가장', '마블', '영화']"
      ]
     },
     "execution_count": 88,
     "metadata": {},
     "output_type": "execute_result"
    }
   ],
   "source": [
    "from konlpy.tag import Okt\n",
    "from collections import Counter\n",
    "\n",
    "nouns_tagger = Okt()\n",
    "nouns = nouns_tagger.nouns(filter(df['comment'][9]))\n",
    "nouns"
   ]
  },
  {
   "cell_type": "code",
   "execution_count": 89,
   "id": "5a7e48c5",
   "metadata": {},
   "outputs": [
    {
     "ename": "TypeError",
     "evalue": "sequence item 19: expected str instance, float found",
     "output_type": "error",
     "traceback": [
      "\u001b[0;31m---------------------------------------------------------------------------\u001b[0m",
      "\u001b[0;31mTypeError\u001b[0m                                 Traceback (most recent call last)",
      "\u001b[0;32m<ipython-input-89-6924832f26e7>\u001b[0m in \u001b[0;36m<module>\u001b[0;34m\u001b[0m\n\u001b[0;32m----> 1\u001b[0;31m \u001b[0mnouns\u001b[0m \u001b[0;34m=\u001b[0m \u001b[0mnouns_tagger\u001b[0m\u001b[0;34m.\u001b[0m\u001b[0mnouns\u001b[0m\u001b[0;34m(\u001b[0m\u001b[0mfilter\u001b[0m\u001b[0;34m(\u001b[0m\u001b[0;34m\"\"\u001b[0m\u001b[0;34m.\u001b[0m\u001b[0mjoin\u001b[0m\u001b[0;34m(\u001b[0m\u001b[0mdf\u001b[0m\u001b[0;34m[\u001b[0m\u001b[0;34m'comment'\u001b[0m\u001b[0;34m]\u001b[0m\u001b[0;34m.\u001b[0m\u001b[0mtolist\u001b[0m\u001b[0;34m(\u001b[0m\u001b[0;34m)\u001b[0m\u001b[0;34m)\u001b[0m\u001b[0;34m)\u001b[0m\u001b[0;34m)\u001b[0m \u001b[0;31m# corpus(전체)에서 명사 형태소 추출\u001b[0m\u001b[0;34m\u001b[0m\u001b[0;34m\u001b[0m\u001b[0m\n\u001b[0m",
      "\u001b[0;31mTypeError\u001b[0m: sequence item 19: expected str instance, float found"
     ]
    }
   ],
   "source": [
    "nouns = nouns_tagger.nouns(filter(\"\".join(df['comment'].tolist()))) # corpus(전체)에서 명사 형태소 추출"
   ]
  },
  {
   "cell_type": "code",
   "execution_count": null,
   "id": "32cc9891",
   "metadata": {},
   "outputs": [],
   "source": []
  }
 ],
 "metadata": {
  "kernelspec": {
   "display_name": "Python 3",
   "language": "python",
   "name": "python3"
  },
  "language_info": {
   "codemirror_mode": {
    "name": "ipython",
    "version": 3
   },
   "file_extension": ".py",
   "mimetype": "text/x-python",
   "name": "python",
   "nbconvert_exporter": "python",
   "pygments_lexer": "ipython3",
   "version": "3.8.8"
  }
 },
 "nbformat": 4,
 "nbformat_minor": 5
}
