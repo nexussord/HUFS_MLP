{
 "cells": [
  {
   "cell_type": "markdown",
   "id": "185e1408",
   "metadata": {},
   "source": [
    "# 텍스트 마이닝을 활용한 영화 평점 감성 분석"
   ]
  },
  {
   "cell_type": "markdown",
   "id": "e46be078",
   "metadata": {},
   "source": [
    "## 1) 영화 평점 데이터 크롤링"
   ]
  },
  {
   "cell_type": "code",
   "execution_count": 25,
   "id": "8b4df042",
   "metadata": {},
   "outputs": [
    {
     "name": "stdout",
     "output_type": "stream",
     "text": [
      "스파이더맨: 노 웨이 홈 :: 7 :: 쏘쏘~ 마블 취향이 아닌지라..\n",
      "-------------------------------------------\n",
      "스파이더맨: 노 웨이 홈 :: 10 :: 스파이더맨 전 시리즈를 안봤음에도 재미있었어요.\n",
      "-------------------------------------------\n",
      "스파이더맨: 노 웨이 홈 :: 8 :: 액션은 부족했지만 스파이더맨팬에게는 선물 같은 영화였어요\n",
      "-------------------------------------------\n",
      "스파이더맨: 노 웨이 홈 :: 10 :: 보면 볼 수록 과거의 아련함이 묻어나온다.\n",
      "-------------------------------------------\n",
      "스파이더맨: 노 웨이 홈 :: 10 :: 2시간 영화를 봤는데, 본게 없다 .다시 봐야해\n",
      "-------------------------------------------\n",
      "스파이더맨: 노 웨이 홈 :: 10 :: 앤드류 갓필드...\n",
      "-------------------------------------------\n",
      "스파이더맨: 노 웨이 홈 :: 6 :: 스토리 박살.  로맨스물. 평점엔 알바들만 득실. 소니 가 소니햇다.\n",
      "-------------------------------------------\n",
      "스파이더맨: 노 웨이 홈 :: 7 :: 스파이더맨을 볼 수 밖에 없는 상영관이네요 ㅠㅠ\n",
      "-------------------------------------------\n",
      "스파이더맨: 노 웨이 홈 :: 10 :: 그냥 감동입니다 꼭보세요\n",
      "-------------------------------------------\n",
      "스파이더맨: 노 웨이 홈 :: 10 :: 10대의 나와 20대의 나..그리고 지금의 내가 만난듯한 기분\n",
      "-------------------------------------------\n"
     ]
    }
   ],
   "source": [
    "import requests\n",
    "from bs4 import BeautifulSoup\n",
    "from urllib import parse\n",
    "\n",
    "base_url = \"https://movie.naver.com/movie/point/af/list.naver?st=mcode&sword=208077&target=after&page=2\"\n",
    "url = base_url.format(1)\n",
    "res = requests.get(url)\n",
    "\n",
    "soup = BeautifulSoup(res.text)\n",
    "tds = soup.select('table.list_netizen > tbody > tr > td.title')\n",
    "\n",
    "for td in tds:\n",
    "    movie_title = td.select_one('a.movie').text.strip()\n",
    "    score = td.select_one('div.list_netizen_score > em').text.strip()\n",
    "    comment = td.select_one('br').next_sibling.strip()\n",
    "    print(movie_title, score, comment, sep=' :: ')\n",
    "    print('-------------------------------------------')"
   ]
  },
  {
   "cell_type": "code",
   "execution_count": 33,
   "id": "1acba1d2",
   "metadata": {},
   "outputs": [],
   "source": [
    "import time\n",
    "import random\n",
    "\n",
    "comment_list=[] # 저장 할 리스트\n",
    "for page in range(1, 101):\n",
    "    url = base_url.format(page)\n",
    "    res = requests.get(url)\n",
    "    \n",
    "    soup = BeautifulSoup(res.text, 'lxml')\n",
    "    tds = soup.select('table.list_netizen > tbody > tr > td.title')\n",
    "    \n",
    "    for td in tds:\n",
    "        score = td.select_one('div.list_netizen_score > em').text.strip()\n",
    "        comment = td.select_one('br').next_sibling.strip()\n",
    "        comment_list.append((score, comment)) # 리스트에 추가\n",
    "    delay = round(random.uniform(0.2, 1.2), 2) # 크롤링을 위해 페이지 전환을 빠르게 하게되면 네이버에서 막을 수 있기에 delay를 걸어준다.\n",
    "    time.sleep(delay)\n",
    "    "
   ]
  },
  {
   "cell_type": "code",
   "execution_count": 32,
   "id": "c890e69e",
   "metadata": {},
   "outputs": [
    {
     "name": "stdout",
     "output_type": "stream",
     "text": [
      "[('7', '쏘쏘~ 마블 취향이 아닌지라..'), ('10', '스파이더맨 전 시리즈를 안봤음에도 재미있었어요.'), ('8', '액션은 부족했지만 스파이더맨팬에게는 선물 같은 영화였어요'), ('10', '보면 볼 수록 과거의 아련함이 묻어나온다.'), ('10', '2시간 영화를 봤는데, 본게 없다 .다시 봐야해'), ('10', '앤드류 갓필드...'), ('6', '스토리 박살.  로맨스물. 평점엔 알바들만 득실. 소니 가 소니햇다.'), ('7', '스파이더맨을 볼 수 밖에 없는 상영관이네요 ㅠㅠ'), ('10', '그냥 감동입니다 꼭보세요'), ('10', '10대의 나와 20대의 나..그리고 지금의 내가 만난듯한 기분'), ('7', '쏘쏘~ 마블 취향이 아닌지라..'), ('10', '스파이더맨 전 시리즈를 안봤음에도 재미있었어요.'), ('8', '액션은 부족했지만 스파이더맨팬에게는 선물 같은 영화였어요'), ('10', '보면 볼 수록 과거의 아련함이 묻어나온다.'), ('10', '2시간 영화를 봤는데, 본게 없다 .다시 봐야해'), ('10', '앤드류 갓필드...'), ('6', '스토리 박살.  로맨스물. 평점엔 알바들만 득실. 소니 가 소니햇다.'), ('7', '스파이더맨을 볼 수 밖에 없는 상영관이네요 ㅠㅠ'), ('10', '그냥 감동입니다 꼭보세요'), ('10', '10대의 나와 20대의 나..그리고 지금의 내가 만난듯한 기분'), ('7', '쏘쏘~ 마블 취향이 아닌지라..'), ('10', '스파이더맨 전 시리즈를 안봤음에도 재미있었어요.'), ('8', '액션은 부족했지만 스파이더맨팬에게는 선물 같은 영화였어요'), ('10', '보면 볼 수록 과거의 아련함이 묻어나온다.'), ('10', '2시간 영화를 봤는데, 본게 없다 .다시 봐야해'), ('10', '앤드류 갓필드...'), ('6', '스토리 박살.  로맨스물. 평점엔 알바들만 득실. 소니 가 소니햇다.'), ('7', '스파이더맨을 볼 수 밖에 없는 상영관이네요 ㅠㅠ'), ('10', '그냥 감동입니다 꼭보세요'), ('10', '10대의 나와 20대의 나..그리고 지금의 내가 만난듯한 기분'), ('7', '쏘쏘~ 마블 취향이 아닌지라..'), ('10', '스파이더맨 전 시리즈를 안봤음에도 재미있었어요.'), ('8', '액션은 부족했지만 스파이더맨팬에게는 선물 같은 영화였어요'), ('10', '보면 볼 수록 과거의 아련함이 묻어나온다.'), ('10', '2시간 영화를 봤는데, 본게 없다 .다시 봐야해'), ('10', '앤드류 갓필드...'), ('6', '스토리 박살.  로맨스물. 평점엔 알바들만 득실. 소니 가 소니햇다.'), ('7', '스파이더맨을 볼 수 밖에 없는 상영관이네요 ㅠㅠ'), ('10', '그냥 감동입니다 꼭보세요'), ('10', '10대의 나와 20대의 나..그리고 지금의 내가 만난듯한 기분'), ('7', '쏘쏘~ 마블 취향이 아닌지라..'), ('10', '스파이더맨 전 시리즈를 안봤음에도 재미있었어요.'), ('8', '액션은 부족했지만 스파이더맨팬에게는 선물 같은 영화였어요'), ('10', '보면 볼 수록 과거의 아련함이 묻어나온다.'), ('10', '2시간 영화를 봤는데, 본게 없다 .다시 봐야해'), ('10', '앤드류 갓필드...'), ('6', '스토리 박살.  로맨스물. 평점엔 알바들만 득실. 소니 가 소니햇다.'), ('7', '스파이더맨을 볼 수 밖에 없는 상영관이네요 ㅠㅠ'), ('10', '그냥 감동입니다 꼭보세요'), ('10', '10대의 나와 20대의 나..그리고 지금의 내가 만난듯한 기분'), ('7', '쏘쏘~ 마블 취향이 아닌지라..'), ('10', '스파이더맨 전 시리즈를 안봤음에도 재미있었어요.'), ('8', '액션은 부족했지만 스파이더맨팬에게는 선물 같은 영화였어요'), ('10', '보면 볼 수록 과거의 아련함이 묻어나온다.'), ('10', '2시간 영화를 봤는데, 본게 없다 .다시 봐야해'), ('10', '앤드류 갓필드...'), ('6', '스토리 박살.  로맨스물. 평점엔 알바들만 득실. 소니 가 소니햇다.'), ('7', '스파이더맨을 볼 수 밖에 없는 상영관이네요 ㅠㅠ'), ('10', '그냥 감동입니다 꼭보세요'), ('10', '10대의 나와 20대의 나..그리고 지금의 내가 만난듯한 기분'), ('7', '쏘쏘~ 마블 취향이 아닌지라..'), ('10', '스파이더맨 전 시리즈를 안봤음에도 재미있었어요.'), ('8', '액션은 부족했지만 스파이더맨팬에게는 선물 같은 영화였어요'), ('10', '보면 볼 수록 과거의 아련함이 묻어나온다.'), ('10', '2시간 영화를 봤는데, 본게 없다 .다시 봐야해'), ('10', '앤드류 갓필드...'), ('6', '스토리 박살.  로맨스물. 평점엔 알바들만 득실. 소니 가 소니햇다.'), ('7', '스파이더맨을 볼 수 밖에 없는 상영관이네요 ㅠㅠ'), ('10', '그냥 감동입니다 꼭보세요'), ('10', '10대의 나와 20대의 나..그리고 지금의 내가 만난듯한 기분'), ('7', '쏘쏘~ 마블 취향이 아닌지라..'), ('10', '스파이더맨 전 시리즈를 안봤음에도 재미있었어요.'), ('8', '액션은 부족했지만 스파이더맨팬에게는 선물 같은 영화였어요'), ('10', '보면 볼 수록 과거의 아련함이 묻어나온다.'), ('10', '2시간 영화를 봤는데, 본게 없다 .다시 봐야해'), ('10', '앤드류 갓필드...'), ('6', '스토리 박살.  로맨스물. 평점엔 알바들만 득실. 소니 가 소니햇다.'), ('7', '스파이더맨을 볼 수 밖에 없는 상영관이네요 ㅠㅠ'), ('10', '그냥 감동입니다 꼭보세요'), ('10', '10대의 나와 20대의 나..그리고 지금의 내가 만난듯한 기분'), ('7', '쏘쏘~ 마블 취향이 아닌지라..'), ('10', '스파이더맨 전 시리즈를 안봤음에도 재미있었어요.'), ('8', '액션은 부족했지만 스파이더맨팬에게는 선물 같은 영화였어요'), ('10', '보면 볼 수록 과거의 아련함이 묻어나온다.'), ('10', '2시간 영화를 봤는데, 본게 없다 .다시 봐야해'), ('10', '앤드류 갓필드...'), ('6', '스토리 박살.  로맨스물. 평점엔 알바들만 득실. 소니 가 소니햇다.'), ('7', '스파이더맨을 볼 수 밖에 없는 상영관이네요 ㅠㅠ'), ('10', '그냥 감동입니다 꼭보세요'), ('10', '10대의 나와 20대의 나..그리고 지금의 내가 만난듯한 기분'), ('7', '쏘쏘~ 마블 취향이 아닌지라..'), ('10', '스파이더맨 전 시리즈를 안봤음에도 재미있었어요.'), ('8', '액션은 부족했지만 스파이더맨팬에게는 선물 같은 영화였어요'), ('10', '보면 볼 수록 과거의 아련함이 묻어나온다.'), ('10', '2시간 영화를 봤는데, 본게 없다 .다시 봐야해'), ('10', '앤드류 갓필드...'), ('6', '스토리 박살.  로맨스물. 평점엔 알바들만 득실. 소니 가 소니햇다.'), ('7', '스파이더맨을 볼 수 밖에 없는 상영관이네요 ㅠㅠ'), ('10', '그냥 감동입니다 꼭보세요'), ('10', '10대의 나와 20대의 나..그리고 지금의 내가 만난듯한 기분'), ('7', '쏘쏘~ 마블 취향이 아닌지라..'), ('10', '스파이더맨 전 시리즈를 안봤음에도 재미있었어요.'), ('8', '액션은 부족했지만 스파이더맨팬에게는 선물 같은 영화였어요'), ('10', '보면 볼 수록 과거의 아련함이 묻어나온다.'), ('10', '2시간 영화를 봤는데, 본게 없다 .다시 봐야해'), ('10', '앤드류 갓필드...'), ('6', '스토리 박살.  로맨스물. 평점엔 알바들만 득실. 소니 가 소니햇다.'), ('7', '스파이더맨을 볼 수 밖에 없는 상영관이네요 ㅠㅠ'), ('10', '그냥 감동입니다 꼭보세요'), ('10', '10대의 나와 20대의 나..그리고 지금의 내가 만난듯한 기분'), ('7', '쏘쏘~ 마블 취향이 아닌지라..'), ('10', '스파이더맨 전 시리즈를 안봤음에도 재미있었어요.'), ('8', '액션은 부족했지만 스파이더맨팬에게는 선물 같은 영화였어요'), ('10', '보면 볼 수록 과거의 아련함이 묻어나온다.'), ('10', '2시간 영화를 봤는데, 본게 없다 .다시 봐야해'), ('10', '앤드류 갓필드...'), ('6', '스토리 박살.  로맨스물. 평점엔 알바들만 득실. 소니 가 소니햇다.'), ('7', '스파이더맨을 볼 수 밖에 없는 상영관이네요 ㅠㅠ'), ('10', '그냥 감동입니다 꼭보세요'), ('10', '10대의 나와 20대의 나..그리고 지금의 내가 만난듯한 기분')]\n"
     ]
    }
   ],
   "source": [
    "print(comment_list)"
   ]
  },
  {
   "cell_type": "code",
   "execution_count": 29,
   "id": "a7639eb7",
   "metadata": {},
   "outputs": [],
   "source": [
    "import pandas as pd\n",
    "df = pd.DataFrame(comment_list,columns=['rate','comment'])\n",
    "df.to_csv('spider_naver_comment.csv', encoding='utf-8', index = False)"
   ]
  },
  {
   "cell_type": "markdown",
   "id": "966abe1c",
   "metadata": {},
   "source": [
    "## 2) 텍스트 전처리를 위한 데이터 셋 살펴보기"
   ]
  },
  {
   "cell_type": "code",
   "execution_count": 30,
   "id": "8f1053a3",
   "metadata": {},
   "outputs": [],
   "source": [
    "%matplotlib inline\n",
    "\n",
    "import pandas as pd\n",
    "import numpy as np\n",
    "import matplotlib.pyplot as plt\n",
    "import seaborn as sns\n",
    "\n",
    "import warnings\n",
    "warnings.filterwarnings(\"ignore\")\n",
    "\n",
    "df = pd.read_csv(\"https://raw.githubusercontent.com/nexussord/HUFS_MLP/main/spider_naver_comment.csv\")"
   ]
  },
  {
   "cell_type": "code",
   "execution_count": 19,
   "id": "d87ce959",
   "metadata": {},
   "outputs": [
    {
     "data": {
      "text/html": [
       "<div>\n",
       "<style scoped>\n",
       "    .dataframe tbody tr th:only-of-type {\n",
       "        vertical-align: middle;\n",
       "    }\n",
       "\n",
       "    .dataframe tbody tr th {\n",
       "        vertical-align: top;\n",
       "    }\n",
       "\n",
       "    .dataframe thead th {\n",
       "        text-align: right;\n",
       "    }\n",
       "</style>\n",
       "<table border=\"1\" class=\"dataframe\">\n",
       "  <thead>\n",
       "    <tr style=\"text-align: right;\">\n",
       "      <th></th>\n",
       "      <th>평점</th>\n",
       "      <th>댓글</th>\n",
       "    </tr>\n",
       "  </thead>\n",
       "  <tbody>\n",
       "    <tr>\n",
       "      <th>0</th>\n",
       "      <td>10</td>\n",
       "      <td>말이 필요없다.개연성 오마주 팬서비스 모든걸 잘 버무린 최고의 영화..! 재미없고 ...</td>\n",
       "    </tr>\n",
       "    <tr>\n",
       "      <th>1</th>\n",
       "      <td>10</td>\n",
       "      <td>어렸을때 추억이 새록새록 앞으로가 기대됩니다.</td>\n",
       "    </tr>\n",
       "    <tr>\n",
       "      <th>2</th>\n",
       "      <td>10</td>\n",
       "      <td>스토리, 개연성 다 필요없음.앤드류 가필드가 톰 홀랜드의 MJ 를 무사히 구출하는 ...</td>\n",
       "    </tr>\n",
       "    <tr>\n",
       "      <th>3</th>\n",
       "      <td>10</td>\n",
       "      <td>.나하나하우투아가아고</td>\n",
       "    </tr>\n",
       "    <tr>\n",
       "      <th>4</th>\n",
       "      <td>10</td>\n",
       "      <td>지림..진짜재밋게봄 또보러갈구</td>\n",
       "    </tr>\n",
       "  </tbody>\n",
       "</table>\n",
       "</div>"
      ],
      "text/plain": [
       "   평점                                                 댓글\n",
       "0  10  말이 필요없다.개연성 오마주 팬서비스 모든걸 잘 버무린 최고의 영화..! 재미없고 ...\n",
       "1  10                          어렸을때 추억이 새록새록 앞으로가 기대됩니다.\n",
       "2  10  스토리, 개연성 다 필요없음.앤드류 가필드가 톰 홀랜드의 MJ 를 무사히 구출하는 ...\n",
       "3  10                                        .나하나하우투아가아고\n",
       "4  10                                   지림..진짜재밋게봄 또보러갈구"
      ]
     },
     "execution_count": 19,
     "metadata": {},
     "output_type": "execute_result"
    }
   ],
   "source": [
    "df.head()"
   ]
  },
  {
   "cell_type": "code",
   "execution_count": 20,
   "id": "b10b3f78",
   "metadata": {},
   "outputs": [
    {
     "data": {
      "text/plain": [
       "(1000, 2)"
      ]
     },
     "execution_count": 20,
     "metadata": {},
     "output_type": "execute_result"
    }
   ],
   "source": [
    "df.shape"
   ]
  },
  {
   "cell_type": "code",
   "execution_count": 21,
   "id": "d220426f",
   "metadata": {},
   "outputs": [
    {
     "data": {
      "text/plain": [
       "평점    0\n",
       "댓글    0\n",
       "dtype: int64"
      ]
     },
     "execution_count": 21,
     "metadata": {},
     "output_type": "execute_result"
    }
   ],
   "source": [
    "df.isnull().sum() # 데이터 무결성 확인"
   ]
  },
  {
   "cell_type": "code",
   "execution_count": 22,
   "id": "dc0919b3",
   "metadata": {},
   "outputs": [
    {
     "name": "stdout",
     "output_type": "stream",
     "text": [
      "<class 'pandas.core.frame.DataFrame'>\n",
      "RangeIndex: 1000 entries, 0 to 999\n",
      "Data columns (total 2 columns):\n",
      " #   Column  Non-Null Count  Dtype \n",
      "---  ------  --------------  ----- \n",
      " 0   평점      1000 non-null   int64 \n",
      " 1   댓글      1000 non-null   object\n",
      "dtypes: int64(1), object(1)\n",
      "memory usage: 15.8+ KB\n"
     ]
    }
   ],
   "source": [
    "df.info()"
   ]
  },
  {
   "cell_type": "code",
   "execution_count": 24,
   "id": "7fd9479b",
   "metadata": {},
   "outputs": [
    {
     "data": {
      "text/plain": [
       "'말이 필요없다.개연성 오마주 팬서비스 모든걸 잘 버무린 최고의 영화..! 재미없고 이상하다고 한 사람들은 아마 대부분 이전 스파이더맨 영화를 제대로 보지 않았거나 히스토리를 잘 몰랐던 사람인거 같다.'"
      ]
     },
     "execution_count": 24,
     "metadata": {},
     "output_type": "execute_result"
    }
   ],
   "source": [
    "df['댓'][0]"
   ]
  },
  {
   "cell_type": "code",
   "execution_count": 34,
   "id": "5a59d7b3",
   "metadata": {},
   "outputs": [
    {
     "ename": "KeyError",
     "evalue": "'text'",
     "output_type": "error",
     "traceback": [
      "\u001b[0;31m---------------------------------------------------------------------------\u001b[0m",
      "\u001b[0;31mKeyError\u001b[0m                                  Traceback (most recent call last)",
      "\u001b[0;32m~/opt/anaconda3/lib/python3.8/site-packages/pandas/core/indexes/base.py\u001b[0m in \u001b[0;36mget_loc\u001b[0;34m(self, key, method, tolerance)\u001b[0m\n\u001b[1;32m   3079\u001b[0m             \u001b[0;32mtry\u001b[0m\u001b[0;34m:\u001b[0m\u001b[0;34m\u001b[0m\u001b[0;34m\u001b[0m\u001b[0m\n\u001b[0;32m-> 3080\u001b[0;31m                 \u001b[0;32mreturn\u001b[0m \u001b[0mself\u001b[0m\u001b[0;34m.\u001b[0m\u001b[0m_engine\u001b[0m\u001b[0;34m.\u001b[0m\u001b[0mget_loc\u001b[0m\u001b[0;34m(\u001b[0m\u001b[0mcasted_key\u001b[0m\u001b[0;34m)\u001b[0m\u001b[0;34m\u001b[0m\u001b[0;34m\u001b[0m\u001b[0m\n\u001b[0m\u001b[1;32m   3081\u001b[0m             \u001b[0;32mexcept\u001b[0m \u001b[0mKeyError\u001b[0m \u001b[0;32mas\u001b[0m \u001b[0merr\u001b[0m\u001b[0;34m:\u001b[0m\u001b[0;34m\u001b[0m\u001b[0;34m\u001b[0m\u001b[0m\n",
      "\u001b[0;32mpandas/_libs/index.pyx\u001b[0m in \u001b[0;36mpandas._libs.index.IndexEngine.get_loc\u001b[0;34m()\u001b[0m\n",
      "\u001b[0;32mpandas/_libs/index.pyx\u001b[0m in \u001b[0;36mpandas._libs.index.IndexEngine.get_loc\u001b[0;34m()\u001b[0m\n",
      "\u001b[0;32mpandas/_libs/hashtable_class_helper.pxi\u001b[0m in \u001b[0;36mpandas._libs.hashtable.PyObjectHashTable.get_item\u001b[0;34m()\u001b[0m\n",
      "\u001b[0;32mpandas/_libs/hashtable_class_helper.pxi\u001b[0m in \u001b[0;36mpandas._libs.hashtable.PyObjectHashTable.get_item\u001b[0;34m()\u001b[0m\n",
      "\u001b[0;31mKeyError\u001b[0m: 'text'",
      "\nThe above exception was the direct cause of the following exception:\n",
      "\u001b[0;31mKeyError\u001b[0m                                  Traceback (most recent call last)",
      "\u001b[0;32m<ipython-input-34-f1d4ac3f2c79>\u001b[0m in \u001b[0;36m<module>\u001b[0;34m\u001b[0m\n\u001b[0;32m----> 1\u001b[0;31m \u001b[0mlen\u001b[0m\u001b[0;34m(\u001b[0m\u001b[0mdf\u001b[0m\u001b[0;34m[\u001b[0m\u001b[0;34m'text'\u001b[0m\u001b[0;34m]\u001b[0m\u001b[0;34m.\u001b[0m\u001b[0mvalues\u001b[0m\u001b[0;34m.\u001b[0m\u001b[0msum\u001b[0m\u001b[0;34m(\u001b[0m\u001b[0;34m)\u001b[0m\u001b[0;34m)\u001b[0m\u001b[0;34m\u001b[0m\u001b[0;34m\u001b[0m\u001b[0m\n\u001b[0m",
      "\u001b[0;32m~/opt/anaconda3/lib/python3.8/site-packages/pandas/core/frame.py\u001b[0m in \u001b[0;36m__getitem__\u001b[0;34m(self, key)\u001b[0m\n\u001b[1;32m   3022\u001b[0m             \u001b[0;32mif\u001b[0m \u001b[0mself\u001b[0m\u001b[0;34m.\u001b[0m\u001b[0mcolumns\u001b[0m\u001b[0;34m.\u001b[0m\u001b[0mnlevels\u001b[0m \u001b[0;34m>\u001b[0m \u001b[0;36m1\u001b[0m\u001b[0;34m:\u001b[0m\u001b[0;34m\u001b[0m\u001b[0;34m\u001b[0m\u001b[0m\n\u001b[1;32m   3023\u001b[0m                 \u001b[0;32mreturn\u001b[0m \u001b[0mself\u001b[0m\u001b[0;34m.\u001b[0m\u001b[0m_getitem_multilevel\u001b[0m\u001b[0;34m(\u001b[0m\u001b[0mkey\u001b[0m\u001b[0;34m)\u001b[0m\u001b[0;34m\u001b[0m\u001b[0;34m\u001b[0m\u001b[0m\n\u001b[0;32m-> 3024\u001b[0;31m             \u001b[0mindexer\u001b[0m \u001b[0;34m=\u001b[0m \u001b[0mself\u001b[0m\u001b[0;34m.\u001b[0m\u001b[0mcolumns\u001b[0m\u001b[0;34m.\u001b[0m\u001b[0mget_loc\u001b[0m\u001b[0;34m(\u001b[0m\u001b[0mkey\u001b[0m\u001b[0;34m)\u001b[0m\u001b[0;34m\u001b[0m\u001b[0;34m\u001b[0m\u001b[0m\n\u001b[0m\u001b[1;32m   3025\u001b[0m             \u001b[0;32mif\u001b[0m \u001b[0mis_integer\u001b[0m\u001b[0;34m(\u001b[0m\u001b[0mindexer\u001b[0m\u001b[0;34m)\u001b[0m\u001b[0;34m:\u001b[0m\u001b[0;34m\u001b[0m\u001b[0;34m\u001b[0m\u001b[0m\n\u001b[1;32m   3026\u001b[0m                 \u001b[0mindexer\u001b[0m \u001b[0;34m=\u001b[0m \u001b[0;34m[\u001b[0m\u001b[0mindexer\u001b[0m\u001b[0;34m]\u001b[0m\u001b[0;34m\u001b[0m\u001b[0;34m\u001b[0m\u001b[0m\n",
      "\u001b[0;32m~/opt/anaconda3/lib/python3.8/site-packages/pandas/core/indexes/base.py\u001b[0m in \u001b[0;36mget_loc\u001b[0;34m(self, key, method, tolerance)\u001b[0m\n\u001b[1;32m   3080\u001b[0m                 \u001b[0;32mreturn\u001b[0m \u001b[0mself\u001b[0m\u001b[0;34m.\u001b[0m\u001b[0m_engine\u001b[0m\u001b[0;34m.\u001b[0m\u001b[0mget_loc\u001b[0m\u001b[0;34m(\u001b[0m\u001b[0mcasted_key\u001b[0m\u001b[0;34m)\u001b[0m\u001b[0;34m\u001b[0m\u001b[0;34m\u001b[0m\u001b[0m\n\u001b[1;32m   3081\u001b[0m             \u001b[0;32mexcept\u001b[0m \u001b[0mKeyError\u001b[0m \u001b[0;32mas\u001b[0m \u001b[0merr\u001b[0m\u001b[0;34m:\u001b[0m\u001b[0;34m\u001b[0m\u001b[0;34m\u001b[0m\u001b[0m\n\u001b[0;32m-> 3082\u001b[0;31m                 \u001b[0;32mraise\u001b[0m \u001b[0mKeyError\u001b[0m\u001b[0;34m(\u001b[0m\u001b[0mkey\u001b[0m\u001b[0;34m)\u001b[0m \u001b[0;32mfrom\u001b[0m \u001b[0merr\u001b[0m\u001b[0;34m\u001b[0m\u001b[0;34m\u001b[0m\u001b[0m\n\u001b[0m\u001b[1;32m   3083\u001b[0m \u001b[0;34m\u001b[0m\u001b[0m\n\u001b[1;32m   3084\u001b[0m         \u001b[0;32mif\u001b[0m \u001b[0mtolerance\u001b[0m \u001b[0;32mis\u001b[0m \u001b[0;32mnot\u001b[0m \u001b[0;32mNone\u001b[0m\u001b[0;34m:\u001b[0m\u001b[0;34m\u001b[0m\u001b[0;34m\u001b[0m\u001b[0m\n",
      "\u001b[0;31mKeyError\u001b[0m: 'text'"
     ]
    }
   ],
   "source": [
    "len(df['text'].values.sum())"
   ]
  },
  {
   "cell_type": "code",
   "execution_count": null,
   "id": "fe9b1383",
   "metadata": {},
   "outputs": [],
   "source": []
  }
 ],
 "metadata": {
  "kernelspec": {
   "display_name": "Python 3",
   "language": "python",
   "name": "python3"
  },
  "language_info": {
   "codemirror_mode": {
    "name": "ipython",
    "version": 3
   },
   "file_extension": ".py",
   "mimetype": "text/x-python",
   "name": "python",
   "nbconvert_exporter": "python",
   "pygments_lexer": "ipython3",
   "version": "3.8.8"
  }
 },
 "nbformat": 4,
 "nbformat_minor": 5
}
