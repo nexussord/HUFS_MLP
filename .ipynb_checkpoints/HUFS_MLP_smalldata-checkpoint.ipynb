{
 "cells": [
  {
   "cell_type": "markdown",
   "id": "185e1408",
   "metadata": {},
   "source": [
    "# 텍스트 마이닝을 활용한 영화 평점 감성 분석"
   ]
  },
  {
   "cell_type": "markdown",
   "id": "e46be078",
   "metadata": {},
   "source": [
    "## 1) 영화 평점 데이터 크롤링"
   ]
  },
  {
   "cell_type": "code",
   "execution_count": 1,
   "id": "8b4df042",
   "metadata": {
    "scrolled": true
   },
   "outputs": [
    {
     "name": "stdout",
     "output_type": "stream",
     "text": [
      "스파이더맨: 노 웨이 홈 :: 10 :: \n",
      "-------------------------------------------\n",
      "스파이더맨: 노 웨이 홈 :: 10 :: 너무나도 잼있게 보았습니다!!!!\n",
      "-------------------------------------------\n",
      "스파이더맨: 노 웨이 홈 :: 8 :: 올해 가장 만족스러운 마블 영화인 동시에 선물같은 영화\n",
      "-------------------------------------------\n",
      "스파이더맨: 노 웨이 홈 :: 10 :: 역시 스파이더맨\n",
      "-------------------------------------------\n",
      "스파이더맨: 노 웨이 홈 :: 4 :: 기대이하이고 , 넘 실망스러운게 억지감동이 심함 일류배우들이 나오는 삼류스토리;;\n",
      "-------------------------------------------\n",
      "스파이더맨: 노 웨이 홈 :: 10 :: 다 좋았는데 톰홀랜드가 초반에 발암유발자였다\n",
      "-------------------------------------------\n",
      "스파이더맨: 노 웨이 홈 :: 10 :: 남자는 태어나서 3번운다. 스파이더맨 노웨이홈을 보면서 3번운다.\n",
      "-------------------------------------------\n",
      "스파이더맨: 노 웨이 홈 :: 10 :: 레전드다이거는너무재밌게 봤다\n",
      "-------------------------------------------\n",
      "스파이더맨: 노 웨이 홈 :: 8 :: -2점은 스파이더맨을 보지 않은 사람들에 대한 경고. 한번도 다른 스파이더맨 영화를 보지 않고 이 영화를 보려는 사람은 그 시도를 멈추라!! 정말 재미없을 것이다.\n",
      "-------------------------------------------\n",
      "스파이더맨: 노 웨이 홈 :: 10 :: 원래 자리로 돌아온 다정한 이웃 스파이더맨. 이렇게 잘 싸매서 돌려준다니 마블 너어..\n",
      "-------------------------------------------\n"
     ]
    }
   ],
   "source": [
    "import requests\n",
    "from bs4 import BeautifulSoup\n",
    "from urllib import parse\n",
    "\n",
    "base_url = \"https://movie.naver.com/movie/point/af/list.naver?st=mcode&sword=208077&target=after&page={}\"\n",
    "url = base_url.format(1)\n",
    "res = requests.get(url)\n",
    "\n",
    "soup = BeautifulSoup(res.text)\n",
    "tds = soup.select('table.list_netizen > tbody > tr > td.title')\n",
    "\n",
    "for td in tds:\n",
    "    movie_title = td.select_one('a.movie').text.strip()\n",
    "    score = td.select_one('div.list_netizen_score > em').text.strip()\n",
    "    comment = td.select_one('br').next_sibling.strip()\n",
    "    print(movie_title, score, comment, sep=' :: ')\n",
    "    print('-------------------------------------------')"
   ]
  },
  {
   "cell_type": "code",
   "execution_count": null,
   "id": "86b4e695",
   "metadata": {},
   "outputs": [
    {
     "name": "stderr",
     "output_type": "stream",
     "text": [
      "<>:15: SyntaxWarning: \"is not\" with a literal. Did you mean \"!=\"?\n",
      "<>:15: SyntaxWarning: \"is not\" with a literal. Did you mean \"!=\"?\n",
      "<ipython-input-2-d82b8e4c7947>:15: SyntaxWarning: \"is not\" with a literal. Did you mean \"!=\"?\n",
      "  if comment is not '' : # comment가 빈값이 아니라면 리스트에 추가\n"
     ]
    }
   ],
   "source": [
    "import time\n",
    "import random\n",
    "\n",
    "comment_list=[] # 저장 할 리스트\n",
    "for page in range(1, 1001):\n",
    "    url = base_url.format(page)\n",
    "    res = requests.get(url)\n",
    "    \n",
    "    soup = BeautifulSoup(res.text, 'lxml')\n",
    "    tds = soup.select('table.list_netizen > tbody > tr > td.title')\n",
    "    \n",
    "    for td in tds:\n",
    "        score = td.select_one('div.list_netizen_score > em').text.strip()\n",
    "        comment = td.select_one('br').next_sibling.strip()\n",
    "        if comment is not '' : # comment가 빈값이 아니라면 리스트에 추가\n",
    "            comment_list.append((score, comment)) \n",
    "    delay = round(random.uniform(0.2, 1.2), 2) # 크롤링을 위해 페이지 전환을 빠르게 하게되면 네이버에서 막을 수 있기에 delay를 걸어준다.\n",
    "    time.sleep(delay)\n",
    "    "
   ]
  },
  {
   "cell_type": "code",
   "execution_count": null,
   "id": "0700c6e1",
   "metadata": {},
   "outputs": [],
   "source": [
    "print(comment_list)"
   ]
  },
  {
   "cell_type": "code",
   "execution_count": 116,
   "id": "13ae2107",
   "metadata": {},
   "outputs": [],
   "source": [
    "import pandas as pd\n",
    "df = pd.DataFrame(comment_list,columns=['rate','comment'])\n",
    "df.to_csv('spider_naver_comment_blank_removed.csv', encoding='utf-8', index = False)"
   ]
  },
  {
   "cell_type": "markdown",
   "id": "96de479c",
   "metadata": {},
   "source": [
    "## 2) 텍스트 전처리를 위한 데이터 셋 살펴보기"
   ]
  },
  {
   "cell_type": "code",
   "execution_count": 117,
   "id": "6772db0c",
   "metadata": {},
   "outputs": [],
   "source": [
    "%matplotlib inline\n",
    "\n",
    "import pandas as pd\n",
    "import numpy as np\n",
    "import matplotlib.pyplot as plt\n",
    "import seaborn as sns\n",
    "\n",
    "import warnings\n",
    "warnings.filterwarnings(\"ignore\")\n",
    "\n",
    "df = pd.read_csv(\"https://raw.githubusercontent.com/nexussord/HUFS_MLP/main/spider_naver_comment_blank_removed.csv\")"
   ]
  },
  {
   "cell_type": "code",
   "execution_count": 118,
   "id": "fe32f29d",
   "metadata": {},
   "outputs": [
    {
     "data": {
      "text/html": [
       "<div>\n",
       "<style scoped>\n",
       "    .dataframe tbody tr th:only-of-type {\n",
       "        vertical-align: middle;\n",
       "    }\n",
       "\n",
       "    .dataframe tbody tr th {\n",
       "        vertical-align: top;\n",
       "    }\n",
       "\n",
       "    .dataframe thead th {\n",
       "        text-align: right;\n",
       "    }\n",
       "</style>\n",
       "<table border=\"1\" class=\"dataframe\">\n",
       "  <thead>\n",
       "    <tr style=\"text-align: right;\">\n",
       "      <th></th>\n",
       "      <th>rate</th>\n",
       "      <th>comment</th>\n",
       "    </tr>\n",
       "  </thead>\n",
       "  <tbody>\n",
       "    <tr>\n",
       "      <th>0</th>\n",
       "      <td>10</td>\n",
       "      <td>스파이더맨 팬이라면 꼭 봐야 될 영화</td>\n",
       "    </tr>\n",
       "    <tr>\n",
       "      <th>1</th>\n",
       "      <td>10</td>\n",
       "      <td>진짜 1회차 2회차 둘다 어우 한편만에 이렇게알찬 스토리를 볼 수 있어 좋았어요.....</td>\n",
       "    </tr>\n",
       "    <tr>\n",
       "      <th>2</th>\n",
       "      <td>6</td>\n",
       "      <td>이전 시리즈에 나왔던 캐릭터들이 다시 등장한다는 것 빼곤 딱히 감상 포인트가 없고 ...</td>\n",
       "    </tr>\n",
       "    <tr>\n",
       "      <th>3</th>\n",
       "      <td>10</td>\n",
       "      <td>스파이더맨 총집합  최고였음</td>\n",
       "    </tr>\n",
       "    <tr>\n",
       "      <th>4</th>\n",
       "      <td>10</td>\n",
       "      <td>거미극혐하는사람이 거미인간 좋아하게 만드는 영화임 마블영화본거중에 난 이게 1위타노...</td>\n",
       "    </tr>\n",
       "  </tbody>\n",
       "</table>\n",
       "</div>"
      ],
      "text/plain": [
       "   rate                                            comment\n",
       "0    10                               스파이더맨 팬이라면 꼭 봐야 될 영화\n",
       "1    10  진짜 1회차 2회차 둘다 어우 한편만에 이렇게알찬 스토리를 볼 수 있어 좋았어요.....\n",
       "2     6  이전 시리즈에 나왔던 캐릭터들이 다시 등장한다는 것 빼곤 딱히 감상 포인트가 없고 ...\n",
       "3    10                                    스파이더맨 총집합  최고였음\n",
       "4    10  거미극혐하는사람이 거미인간 좋아하게 만드는 영화임 마블영화본거중에 난 이게 1위타노..."
      ]
     },
     "execution_count": 118,
     "metadata": {},
     "output_type": "execute_result"
    }
   ],
   "source": [
    "df.head()"
   ]
  },
  {
   "cell_type": "code",
   "execution_count": 119,
   "id": "52aecda5",
   "metadata": {},
   "outputs": [
    {
     "data": {
      "text/plain": [
       "(10000, 2)"
      ]
     },
     "execution_count": 119,
     "metadata": {},
     "output_type": "execute_result"
    }
   ],
   "source": [
    "df.shape"
   ]
  },
  {
   "cell_type": "code",
   "execution_count": 120,
   "id": "6f8829c2",
   "metadata": {},
   "outputs": [
    {
     "data": {
      "text/plain": [
       "rate         0\n",
       "comment    644\n",
       "dtype: int64"
      ]
     },
     "execution_count": 120,
     "metadata": {},
     "output_type": "execute_result"
    }
   ],
   "source": [
    "df.isnull().sum() # 데이터 무결성 확인"
   ]
  },
  {
   "cell_type": "code",
   "execution_count": 98,
   "id": "0ea484d0",
   "metadata": {},
   "outputs": [
    {
     "name": "stdout",
     "output_type": "stream",
     "text": [
      "<class 'pandas.core.frame.DataFrame'>\n",
      "Int64Index: 9361 entries, 0 to 9999\n",
      "Data columns (total 2 columns):\n",
      " #   Column   Non-Null Count  Dtype \n",
      "---  ------   --------------  ----- \n",
      " 0   rate     9361 non-null   int64 \n",
      " 1   comment  9361 non-null   object\n",
      "dtypes: int64(1), object(1)\n",
      "memory usage: 219.4+ KB\n"
     ]
    }
   ],
   "source": [
    "df.info()"
   ]
  },
  {
   "cell_type": "code",
   "execution_count": 102,
   "id": "c0a002f0",
   "metadata": {},
   "outputs": [
    {
     "data": {
      "text/plain": [
       "'처음 본 전율을 잊고싶지 않다.'"
      ]
     },
     "execution_count": 102,
     "metadata": {},
     "output_type": "execute_result"
    }
   ],
   "source": [
    "df['comment'][20]"
   ]
  },
  {
   "cell_type": "code",
   "execution_count": 52,
   "id": "2dbc6ca6",
   "metadata": {},
   "outputs": [
    {
     "data": {
      "text/plain": [
       "370020"
      ]
     },
     "execution_count": 52,
     "metadata": {},
     "output_type": "execute_result"
    }
   ],
   "source": [
    "len(df['comment'].values.sum())"
   ]
  },
  {
   "cell_type": "markdown",
   "id": "c6a4ba53",
   "metadata": {},
   "source": [
    "## 3) 한국어 텍스트 전처리"
   ]
  },
  {
   "cell_type": "markdown",
   "id": "f1462401",
   "metadata": {},
   "source": [
    "### Konlpy 설치"
   ]
  },
  {
   "cell_type": "code",
   "execution_count": 53,
   "id": "e7bb7409",
   "metadata": {},
   "outputs": [
    {
     "name": "stdout",
     "output_type": "stream",
     "text": [
      "Requirement already satisfied: konlpy==0.5.1 in /Users/tonykim/opt/anaconda3/lib/python3.8/site-packages (0.5.1)\r\n",
      "Requirement already satisfied: jpype1 in /Users/tonykim/opt/anaconda3/lib/python3.8/site-packages (0.6.3)\r\n"
     ]
    }
   ],
   "source": [
    "!pip install konlpy==0.5.1 jpype1 "
   ]
  },
  {
   "cell_type": "markdown",
   "id": "342e0b35",
   "metadata": {},
   "source": [
    "### 정규표현식 적용"
   ]
  },
  {
   "cell_type": "code",
   "execution_count": 54,
   "id": "4842fa67",
   "metadata": {},
   "outputs": [],
   "source": [
    "import re\n",
    "\n",
    "def filter(text):\n",
    "    korean = re.compile('[^ ㄱ-ㅣ가-힣]') # 한글만 추출할 수 있게끔\n",
    "    result = korean.sub('', text)\n",
    "    return result"
   ]
  },
  {
   "cell_type": "code",
   "execution_count": 90,
   "id": "e5ea594f",
   "metadata": {},
   "outputs": [
    {
     "ename": "TypeError",
     "evalue": "expected string or bytes-like object",
     "output_type": "error",
     "traceback": [
      "\u001b[0;31m---------------------------------------------------------------------------\u001b[0m",
      "\u001b[0;31mTypeError\u001b[0m                                 Traceback (most recent call last)",
      "\u001b[0;32m<ipython-input-90-196f84f0e58b>\u001b[0m in \u001b[0;36m<module>\u001b[0;34m\u001b[0m\n\u001b[0;32m----> 1\u001b[0;31m \u001b[0mfilter\u001b[0m\u001b[0;34m(\u001b[0m\u001b[0mdf\u001b[0m\u001b[0;34m[\u001b[0m\u001b[0;34m'comment'\u001b[0m\u001b[0;34m]\u001b[0m\u001b[0;34m[\u001b[0m\u001b[0;36m19\u001b[0m\u001b[0;34m]\u001b[0m\u001b[0;34m)\u001b[0m\u001b[0;34m\u001b[0m\u001b[0;34m\u001b[0m\u001b[0m\n\u001b[0m",
      "\u001b[0;32m<ipython-input-54-04ad4b3c8d47>\u001b[0m in \u001b[0;36mfilter\u001b[0;34m(text)\u001b[0m\n\u001b[1;32m      3\u001b[0m \u001b[0;32mdef\u001b[0m \u001b[0mfilter\u001b[0m\u001b[0;34m(\u001b[0m\u001b[0mtext\u001b[0m\u001b[0;34m)\u001b[0m\u001b[0;34m:\u001b[0m\u001b[0;34m\u001b[0m\u001b[0;34m\u001b[0m\u001b[0m\n\u001b[1;32m      4\u001b[0m     \u001b[0mkorean\u001b[0m \u001b[0;34m=\u001b[0m \u001b[0mre\u001b[0m\u001b[0;34m.\u001b[0m\u001b[0mcompile\u001b[0m\u001b[0;34m(\u001b[0m\u001b[0;34m'[^ ㄱ-ㅣ가-힣]'\u001b[0m\u001b[0;34m)\u001b[0m \u001b[0;31m# 한글만 추출할 수 있게끔\u001b[0m\u001b[0;34m\u001b[0m\u001b[0;34m\u001b[0m\u001b[0m\n\u001b[0;32m----> 5\u001b[0;31m     \u001b[0mresult\u001b[0m \u001b[0;34m=\u001b[0m \u001b[0mkorean\u001b[0m\u001b[0;34m.\u001b[0m\u001b[0msub\u001b[0m\u001b[0;34m(\u001b[0m\u001b[0;34m''\u001b[0m\u001b[0;34m,\u001b[0m \u001b[0mtext\u001b[0m\u001b[0;34m)\u001b[0m\u001b[0;34m\u001b[0m\u001b[0;34m\u001b[0m\u001b[0m\n\u001b[0m\u001b[1;32m      6\u001b[0m     \u001b[0;32mreturn\u001b[0m \u001b[0mresult\u001b[0m\u001b[0;34m\u001b[0m\u001b[0;34m\u001b[0m\u001b[0m\n",
      "\u001b[0;31mTypeError\u001b[0m: expected string or bytes-like object"
     ]
    }
   ],
   "source": [
    "filter(df['comment'][19])"
   ]
  },
  {
   "cell_type": "markdown",
   "id": "77641a32",
   "metadata": {},
   "source": [
    "### 명사 형태소 추출"
   ]
  },
  {
   "cell_type": "code",
   "execution_count": 88,
   "id": "ee279e50",
   "metadata": {},
   "outputs": [
    {
     "data": {
      "text/plain": [
       "['인피니티', '워', '이후', '가장', '마블', '영화']"
      ]
     },
     "execution_count": 88,
     "metadata": {},
     "output_type": "execute_result"
    }
   ],
   "source": [
    "from konlpy.tag import Okt\n",
    "from collections import Counter\n",
    "\n",
    "nouns_tagger = Okt()\n",
    "nouns = nouns_tagger.nouns(filter(df['comment'][9]))\n",
    "nouns"
   ]
  },
  {
   "cell_type": "code",
   "execution_count": 89,
   "id": "ff798669",
   "metadata": {},
   "outputs": [
    {
     "ename": "TypeError",
     "evalue": "sequence item 19: expected str instance, float found",
     "output_type": "error",
     "traceback": [
      "\u001b[0;31m---------------------------------------------------------------------------\u001b[0m",
      "\u001b[0;31mTypeError\u001b[0m                                 Traceback (most recent call last)",
      "\u001b[0;32m<ipython-input-89-6924832f26e7>\u001b[0m in \u001b[0;36m<module>\u001b[0;34m\u001b[0m\n\u001b[0;32m----> 1\u001b[0;31m \u001b[0mnouns\u001b[0m \u001b[0;34m=\u001b[0m \u001b[0mnouns_tagger\u001b[0m\u001b[0;34m.\u001b[0m\u001b[0mnouns\u001b[0m\u001b[0;34m(\u001b[0m\u001b[0mfilter\u001b[0m\u001b[0;34m(\u001b[0m\u001b[0;34m\"\"\u001b[0m\u001b[0;34m.\u001b[0m\u001b[0mjoin\u001b[0m\u001b[0;34m(\u001b[0m\u001b[0mdf\u001b[0m\u001b[0;34m[\u001b[0m\u001b[0;34m'comment'\u001b[0m\u001b[0;34m]\u001b[0m\u001b[0;34m.\u001b[0m\u001b[0mtolist\u001b[0m\u001b[0;34m(\u001b[0m\u001b[0;34m)\u001b[0m\u001b[0;34m)\u001b[0m\u001b[0;34m)\u001b[0m\u001b[0;34m)\u001b[0m \u001b[0;31m# corpus(전체)에서 명사 형태소 추출\u001b[0m\u001b[0;34m\u001b[0m\u001b[0;34m\u001b[0m\u001b[0m\n\u001b[0m",
      "\u001b[0;31mTypeError\u001b[0m: sequence item 19: expected str instance, float found"
     ]
    }
   ],
   "source": [
    "nouns = nouns_tagger.nouns(filter(\"\".join(df['comment'].tolist()))) # corpus(전체)에서 명사 형태소 추출"
   ]
  },
  {
   "cell_type": "code",
   "execution_count": null,
   "id": "b5c1ae3a",
   "metadata": {},
   "outputs": [],
   "source": []
  }
 ],
 "metadata": {
  "kernelspec": {
   "display_name": "Python 3",
   "language": "python",
   "name": "python3"
  },
  "language_info": {
   "codemirror_mode": {
    "name": "ipython",
    "version": 3
   },
   "file_extension": ".py",
   "mimetype": "text/x-python",
   "name": "python",
   "nbconvert_exporter": "python",
   "pygments_lexer": "ipython3",
   "version": "3.8.8"
  }
 },
 "nbformat": 4,
 "nbformat_minor": 5
}
