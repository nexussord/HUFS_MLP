{
 "cells": [
  {
   "cell_type": "markdown",
   "id": "185e1408",
   "metadata": {},
   "source": [
    "# 텍스트 마이닝을 활용한 영화 평점 감성 분석"
   ]
  },
  {
   "cell_type": "markdown",
   "id": "e46be078",
   "metadata": {},
   "source": [
    "## 1) 영화 평점 데이터 크롤링"
   ]
  },
  {
   "cell_type": "code",
   "execution_count": 4,
   "id": "8b4df042",
   "metadata": {},
   "outputs": [
    {
     "name": "stdout",
     "output_type": "stream",
     "text": [
      "스파이더맨: 노 웨이 홈 :: 10 :: 스파이더맨을 처음봤던 그 옛날의 나를 다시 만났다.\n",
      "-------------------------------------------\n",
      "스파이더맨: 노 웨이 홈 :: 10 :: 스파이더맨의 모든게 압축되어있음\n",
      "-------------------------------------------\n",
      "스파이더맨: 노 웨이 홈 :: 1 :: 올해는 결국 마블이 잭스나이더의 저스티스리그를 못 이기고 넘어가는구나. 몬스터들이 왜 착해져야 되는지부터 몰입을 방해하므로 그래 액션이나 건져가자 했다만 초반 다리씬의 황홀함을 클라이막스에 암흑 싸구려 cg로 다운시키고 말더라\n",
      "-------------------------------------------\n",
      "스파이더맨: 노 웨이 홈 :: 6 :: 난 왜 재미가 없지? 이제 나이가 너무 들었나? 히어로영화 정말 좋아했었는데 ㅠㅠ\n",
      "-------------------------------------------\n",
      "스파이더맨: 노 웨이 홈 :: 10 :: 진심 개존잼 스토리랑 연출 다 미띰\n",
      "-------------------------------------------\n",
      "스파이더맨: 노 웨이 홈 :: 7 :: 결국 그 아이에게 남은 것은 그리움 뿐\n",
      "-------------------------------------------\n",
      "스파이더맨: 노 웨이 홈 :: 10 :: 20대후반인 제가 10대시절과 한자리수 나이대 시절 둘다 봤습니다..\n",
      "-------------------------------------------\n",
      "스파이더맨: 노 웨이 홈 :: 6 :: 이번엔 마블뽕을 받지못햇스ㅂ니다\n",
      "-------------------------------------------\n",
      "스파이더맨: 노 웨이 홈 :: 10 :: 함께 간 아들보다 내가 더 신난 ^^\n",
      "-------------------------------------------\n",
      "스파이더맨: 노 웨이 홈 :: 10 :: 앤드게임 이후는 없다 생각했는데 아니었습니다MCU슾은 이 편이 다했다ㅠ\n",
      "-------------------------------------------\n"
     ]
    }
   ],
   "source": [
    "import requests\n",
    "from bs4 import BeautifulSoup\n",
    "from urllib import parse\n",
    "\n",
    "base_url = \"https://movie.naver.com/movie/point/af/list.naver?st=mcode&sword=208077&target=after&page=2\"\n",
    "url = base_url.format(1)\n",
    "res = requests.get(url)\n",
    "\n",
    "soup = BeautifulSoup(res.text)\n",
    "tds = soup.select('table.list_netizen > tbody > tr > td.title')\n",
    "\n",
    "for td in tds:\n",
    "    movie_title = td.select_one('a.movie').text.strip()\n",
    "    score = td.select_one('div.list_netizen_score > em').text.strip()\n",
    "    comment = td.select_one('br').next_sibling.strip()\n",
    "    print(movie_title, score, comment, sep=' :: ')\n",
    "    print('-------------------------------------------')"
   ]
  },
  {
   "cell_type": "code",
   "execution_count": null,
   "id": "4c725637",
   "metadata": {},
   "outputs": [],
   "source": [
    "import time\n",
    "import random\n",
    "\n",
    "comment_list=[] # 저장 할 리스트\n",
    "for page in range(1, 101):\n",
    "    url = base_url.format(page)\n",
    "    res = requests.get(url)\n",
    "    \n",
    "    soup = BeautifulSoup(res.text, 'lxml')\n",
    "    tds = soup.select('table.list_netizen > tbody > tr > td.title')\n",
    "    \n",
    "    for td in tds:\n",
    "        score = td.select_one('div.list_netizen_score > em').text.strip()\n",
    "        comment = td.select_one('br').next_sibling.strip()\n",
    "        comment_list.append((score, comment)) # 리스트에 추가\n",
    "    delay = round(random.uniform(0.2, 1.2), 2) # 크롤링을 위해 페이지 전환을 빠르게 하게되면 네이버에서 막을 수 있기에 delay를 걸어준다.\n",
    "    time.sleep(delay)\n",
    "    "
   ]
  },
  {
   "cell_type": "code",
   "execution_count": null,
   "id": "31595117",
   "metadata": {},
   "outputs": [],
   "source": [
    "print(comment_list)"
   ]
  },
  {
   "cell_type": "code",
   "execution_count": null,
   "id": "67698c2e",
   "metadata": {},
   "outputs": [],
   "source": []
  }
 ],
 "metadata": {
  "kernelspec": {
   "display_name": "Python 3",
   "language": "python",
   "name": "python3"
  },
  "language_info": {
   "codemirror_mode": {
    "name": "ipython",
    "version": 3
   },
   "file_extension": ".py",
   "mimetype": "text/x-python",
   "name": "python",
   "nbconvert_exporter": "python",
   "pygments_lexer": "ipython3",
   "version": "3.8.8"
  }
 },
 "nbformat": 4,
 "nbformat_minor": 5
}
